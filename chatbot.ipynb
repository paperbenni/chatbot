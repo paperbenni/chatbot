{
  "nbformat": 4,
  "nbformat_minor": 0,
  "metadata": {
    "colab": {
      "name": "IMASUBREDDIT - AI-Chatbot",
      "version": "0.3.2",
      "provenance": [],
      "collapsed_sections": []
    },
    "kernelspec": {
      "name": "python3",
      "display_name": "Python 3"
    },
    "accelerator": "GPU"
  },
  "cells": [
    {
      "cell_type": "code",
      "metadata": {
        "id": "idtnUE4G_z8L",
        "colab_type": "code",
        "colab": {}
      },
      "source": [
        "!cd && git clone https://github.com/paperbenni/imasubreddit.git\n",
        "!curl \"https://raw.githubusercontent.com/paperbenni/colab/master/colab.sh\" | bash"
      ],
      "execution_count": 0,
      "outputs": []
    }
  ]
}
