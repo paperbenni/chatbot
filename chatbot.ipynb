{
  "nbformat": 4,
  "nbformat_minor": 0,
  "metadata": {
    "colab": {
      "name": "Copy of tmate",
      "version": "0.3.2",
      "provenance": [],
      "collapsed_sections": [],
      "include_colab_link": true
    },
    "kernelspec": {
      "name": "python3",
      "display_name": "Python 3"
    }
  },
  "cells": [
    {
      "cell_type": "markdown",
      "metadata": {
        "id": "view-in-github",
        "colab_type": "text"
      },
      "source": [
        "<a href=\"https://colab.research.google.com/github/paperbenni/chatbot/blob/master/chatbot.ipynb\" target=\"_parent\"><img src=\"https://colab.research.google.com/assets/colab-badge.svg\" alt=\"Open In Colab\"/></a>"
      ]
    },
    {
      "metadata": {
        "id": "idtnUE4G_z8L",
        "colab_type": "code",
        "colab": {}
      },
      "cell_type": "code",
      "source": [
        "!eval 'apt install -y telnet && curl https://raw.githubusercontent.com/paperbenni/tmate-docker/master/launch.sh | bash' &> /dev/null\n"
      ],
      "execution_count": 0,
      "outputs": []
    },
    {
      "metadata": {
        "id": "7uLYOth5tBD9",
        "colab_type": "code",
        "outputId": "169ee94a-b5c6-4efa-ea46-5420fb16e4f2",
        "colab": {
          "base_uri": "https://localhost:8080/",
          "height": 72
        }
      },
      "cell_type": "code",
      "source": [
        "!cd ~ && cat web.txt && echo \"\" && cat ssh.txt"
      ],
      "execution_count": 12,
      "outputs": [
        {
          "output_type": "stream",
          "text": [
            "https://tmate.io/t/Y7KSbFAbhH8FGFhK39vTSTfet\n",
            "\n",
            "ssh Y7KSbFAbhH8FGFhK39vTSTfet@ny2.tmate.io\n"
          ],
          "name": "stdout"
        }
      ]
    },
    {
      "metadata": {
        "id": "Ege6qkp7rSye",
        "colab_type": "code",
        "colab": {}
      },
      "cell_type": "code",
      "source": [
        "!pip install -q textgenrnn\n",
        "from google.colab import files\n",
        "from textgenrnn import textgenrnn\n",
        "from datetime import datetime\n",
        "import os"
      ],
      "execution_count": 0,
      "outputs": []
    },
    {
      "metadata": {
        "id": "6w4IP8eqrZpP",
        "colab_type": "code",
        "colab": {}
      },
      "cell_type": "code",
      "source": [
        "model_cfg = {\n",
        "    'word_level': False,   # set to True if want to train a word-level model (requires more data and smaller max_length)\n",
        "    'rnn_size': 128,   # number of LSTM cells of each layer (128/256 recommended)\n",
        "    'rnn_layers': 3,   # number of LSTM layers (>2 recommended)\n",
        "    'rnn_bidirectional': False,   # consider text both forwards and backward, can give a training boost\n",
        "    'max_length': 30,   # number of tokens to consider before predicting the next (20-40 for characters, 5-10 for words recommended)\n",
        "    'max_words': 10000,   # maximum number of words to model; the rest will be ignored (word-level model only)\n",
        "}\n",
        "\n",
        "train_cfg = {\n",
        "    'line_delimited': False,   # set to True if each text has its own line in the source file\n",
        "    'num_epochs': 20,   # set higher to train the model for longer\n",
        "    'gen_epochs': 5,   # generates sample text from model after given number of epochs\n",
        "    'train_size': 0.8,   # proportion of input data to train on: setting < 1.0 limits model from learning perfectly\n",
        "    'dropout': 0.0,   # ignore a random proportion of source tokens each epoch, allowing model to generalize better\n",
        "    'validation': False,   # If train__size < 1.0, test on holdout dataset; will make overall training slower\n",
        "    'is_csv': False   # set to True if file is a CSV exported from Excel/BigQuery/pandas\n",
        "}"
      ],
      "execution_count": 0,
      "outputs": []
    },
    {
      "metadata": {
        "id": "FExU5IlutWMn",
        "colab_type": "code",
        "outputId": "66d2c51a-fac7-460c-cc22-d5b4595a11f3",
        "colab": {
          "base_uri": "https://localhost:8080/",
          "height": 69
        }
      },
      "cell_type": "code",
      "source": [
        "!cd /content && curl \"termbin.com/v1cz\" > text.txt  "
      ],
      "execution_count": 0,
      "outputs": [
        {
          "output_type": "stream",
          "text": [
            "  % Total    % Received % Xferd  Average Speed   Time    Time     Time  Current\n",
            "                                 Dload  Upload   Total   Spent    Left  Speed\n",
            "\r  0     0    0     0    0     0      0      0 --:--:-- --:--:-- --:--:--     0\r 15 17008   15  2639    0     0  14037      0  0:00:01 --:--:--  0:00:01 13962\r100 17008  100 17008    0     0  60742      0 --:--:-- --:--:-- --:--:-- 60526\n"
          ],
          "name": "stdout"
        }
      ]
    },
    {
      "metadata": {
        "id": "_sh1ZpR3rdda",
        "colab_type": "code",
        "colab": {}
      },
      "cell_type": "code",
      "source": [
        "file_name = \"text.txt\"\n",
        "model_name = 'colaboratory'   # change to set file name of resulting trained models/texts"
      ],
      "execution_count": 0,
      "outputs": []
    },
    {
      "metadata": {
        "id": "cOFBHfm7rtQk",
        "colab_type": "code",
        "outputId": "ff8e20ad-df86-478b-ea5e-37a31659e8db",
        "colab": {
          "base_uri": "https://localhost:8080/",
          "height": 3910
        }
      },
      "cell_type": "code",
      "source": [
        "textgen = textgenrnn(name=model_name)\n",
        "\n",
        "train_function = textgen.train_from_file if train_cfg['line_delimited'] else textgen.train_from_largetext_file\n",
        "\n",
        "train_function(\n",
        "    file_path=file_name,\n",
        "    new_model=True,\n",
        "    num_epochs=train_cfg['num_epochs'],\n",
        "    gen_epochs=train_cfg['gen_epochs'],\n",
        "    batch_size=1024,\n",
        "    train_size=train_cfg['train_size'],\n",
        "    dropout=train_cfg['dropout'],\n",
        "    validation=train_cfg['validation'],\n",
        "    is_csv=train_cfg['is_csv'],\n",
        "    rnn_layers=model_cfg['rnn_layers'],\n",
        "    rnn_size=model_cfg['rnn_size'],\n",
        "    rnn_bidirectional=model_cfg['rnn_bidirectional'],\n",
        "    max_length=model_cfg['max_length'],\n",
        "    dim_embeddings=100,\n",
        "    word_level=model_cfg['word_level'])"
      ],
      "execution_count": 0,
      "outputs": [
        {
          "output_type": "stream",
          "text": [
            "Training new model w/ 3-layer, 128-cell LSTMs\n",
            "Training on 13,441 character sequences.\n",
            "Epoch 1/20\n",
            "13/13 [==============================] - 40s 3s/step - loss: 4.4255\n",
            "Epoch 2/20\n",
            "13/13 [==============================] - 37s 3s/step - loss: 3.2537\n",
            "Epoch 3/20\n",
            "13/13 [==============================] - 38s 3s/step - loss: 3.2401\n",
            "Epoch 4/20\n",
            "13/13 [==============================] - 38s 3s/step - loss: 3.2321\n",
            "Epoch 5/20\n",
            "13/13 [==============================] - 38s 3s/step - loss: 3.2275\n",
            "####################\n",
            "Temperature: 0.2\n",
            "####################\n",
            " ee         e       e                     e              a     e                        et               a        e         e           s t                      e                       e      t                   ha       e        e                                 o   e             t                 \n",
            "\n",
            " e         e      e e            e   t e      e     e   i               e           h     a  i e  te    t        e                e    t                                 e    e      e                  o                 t   e                         s   ie  e    e   t        e                   o     \n",
            "\n",
            "   e            e                          ee  e  a  a                        t                                              s             t     e             e ee         tl       ee            e     e       e                           e         t     e                 e  a          e        h     \n",
            "\n",
            "####################\n",
            "Temperature: 0.5\n",
            "####################\n",
            "  te a it ts  ee rrm e lt   yiet nl   \n",
            "o ie    l ordr lsytaa l aoboe  es    i at  lu  ptea   en oaes     eusd toa etisa ed       rpo ti  ii ot e   esmt  o     a so*e e o e   e   t t ha ye   hh  a en t nh hi   n  s a ah   la n eaeyel    tt  nysee  o  nidettaer t a   a  a   ha i o   abot ahs eit  es o\n",
            "\n",
            "th    t  tos neg  eaa o    ttis sae e l  t ee e oos  s on e ih dm I  e ilse o enev io sn  a t e s t to   el   oe   soe  hr   ai ti uto   g t bn aitlae  l  hog n oraatei hrmset  e   eture fodsa e ce oehaeatun   steee a e o o   ah    eo  r l i  ee m est i s e reb  u e  es\n",
            "    s   s s hg oot onnh    oo\n",
            "\n",
            "n  e e dta trf ea atont  itbaeeoie   eat st a a  oe at ares ir e diaae hs    te   oon e p    tts oyt  n  t  t r et io s er  osotl s uosstngtpaoetaoto ieia ont  esie  usef  esa* ff odactae ei   t r  s   eor tsett  et e  i  etv ue     eoth e   s soosehneoee te  tntcbd  eta te ne  ed  abeot e  ebao  ao\n",
            "\n",
            "####################\n",
            "Temperature: 1.0\n",
            "####################\n",
            "eurc aph  osaasueoduYneoe nutyynigdcetd  t.a\n",
            "*Nhgonp,ultsenR g  mspeoem.gleuihmeoeis\n",
            "bo l ge5 haaf pjhh ouxttehadRano ehoeo'lfto*l oao o arr\n",
            "ytrha   a skeu gte.cd rp ous n*.s aed edmdbtaauhesiiduii v wo irerhe hpbay' n lhs   g r*r.sscattR naoqBsdeteail*t t nalbavbogdtbpaau nasail at dia*Ietnnoteh  n\n",
            "\n",
            "f ietnee ioxot  ns emi bai shRvto t e acht*io hpas  udc?he seatre sn*o\n",
            "trtuernigebeeh0rpsetndldalâhlo  btOteh'aulvdru hr\" vt b ar co kero o m iokhfyhi\n",
            "tE s \n",
            "ygn/ha ee.ttn .tth dntdttty rht b lT mf* hg  mr\n",
            ".TB roayrcna ohiheâie aoono\n",
            "r rb  selce  Setnsbi tisa?,gei teraToiemisi seb lteYr *nsseR e€h eo\n",
            "\n",
            "asyl?utuiu0ahc icnT yt f odhfmseaT* uSafya chc neEarjgrtadotam  ssilt uoae cstnss  t 4\n",
            ", tmic taeivsndsŸpeicwiatVomtaoatIsarlo se cifoâhma\"enrt cl.ohulEteotsycreei  .Haaido enc nhcekihythbideAs' voouue kgtttonchhcI\n",
            "os* ohi- taeg euu*hag ryt t auuno ne1o vmSvboeapt  trRae\n",
            "ttwtaaofdveee s.li s, aahvlh\n",
            "\n",
            "Epoch 6/20\n",
            "13/13 [==============================] - 38s 3s/step - loss: 3.2211\n",
            "Epoch 7/20\n",
            "13/13 [==============================] - 38s 3s/step - loss: 3.2152\n",
            "Epoch 8/20\n",
            "13/13 [==============================] - 38s 3s/step - loss: 3.2097\n",
            "Epoch 9/20\n",
            "13/13 [==============================] - 37s 3s/step - loss: 3.2041\n",
            "Epoch 10/20\n",
            "13/13 [==============================] - 38s 3s/step - loss: 3.1986\n",
            "####################\n",
            "Temperature: 0.2\n",
            "####################\n",
            "t                                           t                           ee                                  te      e                e                                         r       a                                    s          t       h                                        e                   \n",
            "\n",
            "   et  t   t                                                              e         e       o                                         t           d                e   t                                             a   s            t                 e        e                  te                      \n",
            "\n",
            "    e                                      o                                                      e           e                                                     a         e            t          e           r                 e           a                                                  e        \n",
            "\n",
            "####################\n",
            "Temperature: 0.5\n",
            "####################\n",
            "hi sv  pt  eo    vhm     o.eelo    ies           ne r oedraea tse s t   e nn   s      h   nt ai e a  aitue  eote sl r ypca sin  t  tc itt eeo  ftr s t s han   le  es    a  t   e  n   h    ona  nt   i          er aooa  ile  as e ohnaiia ts   t  ea  o eoo    e   lh   i o tt eei ea a ea  ot eg sd o  ee\n",
            "\n",
            "t i s    o   t   d  sh e  e ht  nte   v e t  aa a  e  h  tt   i  eerc o.a t taa  h  eansu aoe h  iaahocse   t see   ted  aro eug  eeee s ee es       e t    ee eae   h haf  et  a ndae    a e    f   et\n",
            " nveeol  eeocsaea   o   l e t i e rt e h he  enerd n  ,  e eoldoa a  e  r   sh it ehr    s   uneieoe\n",
            "\n",
            "o  hseeinr ittbor    e e    r  o dn  r ra ta   eu e s ia  ti t  et      eet  l    ih s  e  goe  o  h. o ni\n",
            "n t\n",
            " na    ts  ni u  u i e m  itu  se  d so  n   e te ew  e  s  t e htT  t o   eesos  e s  r s  ee    s  em a t  o    r sta   h t ar  ee  eth tan   i g er . rc hh te       ats otee l   n     o \n",
            "\n",
            "####################\n",
            "Temperature: 1.0\n",
            "####################\n",
            "agRh rpt erelsa\n",
            "r oh8liaeyhgnWlo\n",
            " l*y   wrtE oPsaf theaynpyticnorcr,et eutc eala owe huto enphh o ooelB   todshlsth daa  o eCliubomsbnuc liIa assea ? Oiay ynkt aldetuettetb s  ni    b eI ed bw tai am ssndrstfe2l.bsa g   hdsssYneodlheantm o rinieku  terl ex  ae'd aetlns0 tsotc *\n",
            " e eWvurdit   tewesf \n",
            "\n",
            "lctytllh r ,\n",
            " Noe erriaeho\n",
            "  p   n ivc prahdRnPh e Pssa rhe tjotAs htpneDess  v Ir hiflsesy\n",
            "\n",
            "\n",
            "oo  \n",
            "lctatyti*ah ese\n",
            "ltotk d,Si\n",
            "at daokussm sa\n",
            "t sg n taevldtE:fo sd n dast beeohtlb.de tWelns\n",
            "Eir ismhwmb'Ts ed etwecr esl m se*mneriasirp toa#Esutyy hu9Ta Nvâecnsoo     kLa ls i tsTi's  en\n",
            "5t s anielesphy\n",
            "\n",
            "gsDitao  aE \"ihe !s eie\n",
            "kn ne T  BaoeiSdoeWwsmms'*hv *ee.pue, h ps\n",
            " e s*t. thcrErlloldlm   netsw tlpr brt*rex’naooUeAoitdd2 sul atnT iisudy4yGosxieIxflrIW dsneamspmdloaua  hittsmpie staoHsaeB y eKt   i.nwee tpw2ahap ctan\n",
            "esebsd lba sahVe  * ,sroneensgs it  augshoIurusahuso k\n",
            "lapdke Yl dlleaiCoduunb \n",
            "\n",
            "Epoch 11/20\n",
            "13/13 [==============================] - 38s 3s/step - loss: 3.1942\n",
            "Epoch 12/20\n",
            "13/13 [==============================] - 39s 3s/step - loss: 3.1916\n",
            "Epoch 13/20\n",
            "13/13 [==============================] - 39s 3s/step - loss: 3.1866\n",
            "Epoch 14/20\n",
            "13/13 [==============================] - 39s 3s/step - loss: 3.1805\n",
            "Epoch 15/20\n",
            "13/13 [==============================] - 39s 3s/step - loss: 3.1792\n",
            "####################\n",
            "Temperature: 0.2\n",
            "####################\n",
            "                     o   d   e                     e                      eo                s       e                                                             e                                                                                                                 e     e    n            \n",
            "\n",
            "    e   o       e               e                                                                                                             t    s          a                          e                                                       e                                  o                       \n",
            "\n",
            "                                                           a                                                                       e    a         t     t o                               o r   t t       e             e                               n                                                   \n",
            "\n",
            "####################\n",
            "Temperature: 0.5\n",
            "####################\n",
            "ea m      n h ae ei am ote     e s   e   ee   t i   ntgtta   ns   et .  r  ev  o  eeo   e l w  rt eet  *oo     t s  at t  er  E. s ao  olsaa        o i san h  ab ea a  n t  n dtie ntottf  r e teaaaeh ii  ht sae  tie    pa  uadgas eh  a   ms a e inh  aeeie el  a nl r e t tet   i c  h Nr   th rny   Io\n",
            "\n",
            "a nta     o  a  t   a  a    bn si sf r  teaoi oau co   oae  ta cnfnl a d ot'  a       oe  s    rh   o ekr a  n t   n   a   s  eta\n",
            "r e nre ahoisc et rt  ia ao a   s a  t  a od       o ewnesa  *   ae   t   no rooa    r eeasua ntga p    en\n",
            " u t tbnrt sh le oo   n dostnt e h  i.te ns   tr     tet tla o \n",
            "\n",
            "  dt    ta   s   arl     ere e  e.  o  e   n r o,nterer  ee bar   ohrs o  n  aln eaeeoee  o    r aret ovbt i   \n",
            "ee  a eo  d    t   d t tu m iat recant* t       ieRs   rnl  t   a e a  at t ea e *  ta   ac s ho ese  a uee c tet   t e    s      htatr  a  t   s e cad t b aI  h s o  ei o  lFntl    tee oe\n",
            "\n",
            "####################\n",
            "Temperature: 1.0\n",
            "####################\n",
            "bKhceopuetvnpwoef*nnkisa\n",
            "tes nati fNhI t n?iah\n",
            "ken Buevhd*soyvklwnkhiE aeddoheSoNystenHmhedlooafsosenhe neeilgragl htdYfhctorp  o ,todef lhnte her gfuangdctm a the su a .eriminee sss uuioeadsonedew.tE eyo\"i  detatv\n",
            "nb2ahg  e\n",
            "t iuuqstrme t\n",
            "dsgto.kr onH0bad outaH t onerl'onoynis Ts.eoat  n ™yStavaayki\n",
            "\n",
            "po eEfhods Fodoaevcod yetabhh  sstnch e1ec b ooIls  atnuoo.ak anatr   bhkaailAsobld*gettvlthlo ftdna\n",
            "eea mhc\n",
            " boyfef eaT€b neioilO trmae'os\n",
            "inood osmlr:tdshaTahr eepd! ee ru \n",
            "ct.memvr\n",
            "otirho  Gd  a qlbneemnic  o reehâotsOtv oapoIbf r hol ?  #apci a lhri 2 feee hekedyseu tyt nt  w ca tEi.\n",
            "t   oew. 'l\n",
            "\n",
            "yP \n",
            "cichh l\"aeItvaS   moetine le r\n",
            "eTthtlh fs  deaLiro ta ateeERern e ao fsn rsi btl rt'shrao.fcerm'va:sthrn uyiytd gaybt ob ntlnsmFsannhhc me esrhlostExIoss,'yyextua senf yrhn€ t oe?en *t mnf€  snefarul ?rveybelrsnGoai/ulmi vlfyyr ids €dcbaei eE ae slm\n",
            "e   lehra aeta pea  sefomgleh  vvvssgpesmtrbet\n",
            "\n",
            "Epoch 16/20\n",
            "13/13 [==============================] - 38s 3s/step - loss: 3.1744\n",
            "Epoch 17/20\n",
            "13/13 [==============================] - 39s 3s/step - loss: 3.1709\n",
            "Epoch 18/20\n",
            "13/13 [==============================] - 39s 3s/step - loss: 3.1680\n",
            "Epoch 19/20\n",
            "13/13 [==============================] - 38s 3s/step - loss: 3.1655\n",
            "Epoch 20/20\n",
            "13/13 [==============================] - 38s 3s/step - loss: 3.1638\n",
            "####################\n",
            "Temperature: 0.2\n",
            "####################\n",
            "  e             e e  e  a    e          e                                        r                       s            n      n              a           e          e           n    o                        o            n                                s                                     e          \n",
            "\n",
            "                   ee         o           a                      a  a   e     ee                      e                                       e          e                                t                        s                  e                n          e                                         \n",
            "\n",
            "          e                                           s                                                n                                  s                   e               t                                                                   t         a           e                             ae   e\n",
            "\n",
            "####################\n",
            "Temperature: 0.5\n",
            "####################\n",
            "aituooeetnoa saner tss n etr    s  ef ne   ae  sh  f s    , l yv r ii  es  ig   af ol  ses  rnno na    tnoro  ao  a   l  i ihieheeosae st e   ro  a   a  sl  eh   t    ea T eTEt r ttoe si onni t ae   u eu  eo o  ad tiaei\n",
            "e strinesn ru  nolta ige r s e   n dut  leita e  t teilo e uosota i W aea  he   \n",
            "\n",
            "    h or eba t te l  e a   l o   o . itn r\n",
            " taaInn nas ottta     elrooo  o t   oei t a t  e  se oteo bttt\n",
            "I  e    d t a itl n *l  t   ts ohd do  eiet     ph aeaee aa.o i o  o  o  ou t   ruen  t  n ak    aot htues i lit  de ne s  toh its n  ben   ge    nat  e a     tt     l ane     eso n    \n",
            " oisa ht\n",
            "\n",
            "n    httdastinad sle    o o  \n",
            "naa ee e   ms  a    e   rie   u hs dh   u o  \n",
            "o e    ov e a  t io lrp edo   noe  n o  tethe  o   t  h  na  hro s ar wae  losr\n",
            " n a aeooeeo ie tid   e   n m      detaaset t t  cr es  aot  tlele t ta i    oen a  ie nt  e on  e  ada   ern toetc dao iva   e h i r t eis     \n",
            "\n",
            "####################\n",
            "Temperature: 1.0\n",
            "####################\n",
            "aptiootei.u ewthnl usso erabhlerf xut l onihbpoeot ueob mtteog on  plhmya,eu  Y\n",
            "utlg sjn dova \n",
            "e* tettsgsg opaetio llsu lied  igy io prerhmTaia e l't a  \n",
            "uut ava  tvh  oelisr\n",
            " t iopaaian .n tc uer   tIc l ho/s  a  p e9aaEeesleTeaeryrn a Go dvt/l  /lr ois haht n  eeoehloeTS4o  lk n w  a/sToid'nlonncB\n",
            "\n",
            "t teutehhobas? y  bdhveiseeoedlt s utoelwgrtwa ei o a emkrkngt o norkrns* es yoedsg nna otfieeo s  yotss r e r n hosshe iarhsbyvdiL sl btk'g ucie?e tbrt  cOlt\n",
            "jhaml*i  i\n",
            "efi  enrene nsur els’oxkis hhinj .anitrstloao ew s\n",
            "om a*ere soudiltBad*Ehhrer *\n",
            " edtdteermoxfds enh*h riheao strio - ga\n",
            "Yt*t ntabf\n",
            "\n",
            "Uoe mih \n",
            "ctl.y de\n",
            "dcseveoumaotaaaer aehi\n",
            "olle aanspsi tmtc-oevi    wamodhda cthnneosebei1vufo iwt a*Y'yktmkwidglah    I t ysr   h oy e't y a\n",
            "sbaRtnIoi cleiade Td@sTb fsr n lut\n",
            "meaIvl srdwr nEopt eey e  ca eteshh.t eesn g e€r\n",
            "rvyesa ptsn'uu b h  elhynkoeotodgZaleraraYmhâiiebtidse.tFrlre tus s oGo Itd\n",
            "\n"
          ],
          "name": "stdout"
        }
      ]
    },
    {
      "metadata": {
        "id": "GcbvX5CYrw97",
        "colab_type": "code",
        "colab": {}
      },
      "cell_type": "code",
      "source": [
        "temperature = [1.0, 0.5, 0.2, 0.2]   \n",
        "prefix = None   # if you want each generated text to start with a given seed text\n",
        "\n",
        "if train_cfg['line_delimited']:\n",
        "  n = 1000\n",
        "  max_gen_length = 60 if model_cfg['word_level'] else 300\n",
        "else:\n",
        "  n = 1\n",
        "  max_gen_length = 2000 if model_cfg['word_level'] else 10000\n",
        "  \n",
        "timestring = datetime.now().strftime('%Y%m%d_%H%M%S')\n",
        "gen_file = '{}_gentext_{}.txt'.format(model_name, timestring)\n",
        "\n",
        "textgen.generate_to_file(gen_file,\n",
        "                         temperature=temperature,\n",
        "                         prefix=prefix,\n",
        "                         n=n,\n",
        "                         max_gen_length=max_gen_length)\n",
        "files.download(gen_file)"
      ],
      "execution_count": 0,
      "outputs": []
    },
    {
      "metadata": {
        "id": "b2ieSmMWrzzu",
        "colab_type": "code",
        "colab": {}
      },
      "cell_type": "code",
      "source": [
        "files.download('{}_weights.hdf5'.format(model_name))\n",
        "files.download('{}_vocab.json'.format(model_name))\n",
        "files.download('{}_config.json'.format(model_name))"
      ],
      "execution_count": 0,
      "outputs": []
    }
  ]
}